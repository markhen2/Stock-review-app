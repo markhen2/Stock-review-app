{
 "cells": [
  {
   "cell_type": "code",
   "execution_count": 1,
   "metadata": {},
   "outputs": [],
   "source": [
    "import yfinance as yf\n",
    "import pandas as pd\n",
    "def optimal_insurance_put(symbol):\n",
    "    ticker=yf.Ticker(symbol)\n",
    "    current_price=yf.download(symbol)['Adj Close'][-1]\n",
    "    puts=ticker.option_chain().puts\n",
    "    optimal_puts=puts[(puts['strike']>0.9*(current_price)) & (puts['strike']<1.1*(current_price))]\n",
    "    optimal_puts['Insurance cost']=optimal_puts['strike']-optimal_puts['ask']-current_price\n",
    "\n",
    "    purchasable_op=optimal_puts[(optimal_puts['strike']<current_price)]\n",
    "    purchasable_op['Cost margin']=purchasable_op['Insurance cost']/current_price\n",
    "    ideal_option=purchasable_op[purchasable_op['Insurance cost']==purchasable_op['Insurance cost'].min()]\n",
    "\n",
    "    return ideal_option\n"
   ]
  },
  {
   "cell_type": "code",
   "execution_count": 2,
   "metadata": {},
   "outputs": [
    {
     "name": "stderr",
     "output_type": "stream",
     "text": [
      "[*********************100%%**********************]  1 of 1 completed\n",
      "/var/folders/mk/fn7b709x3dz4m442ngj1_xf00000gn/T/ipykernel_353/2668414907.py:8: SettingWithCopyWarning: \n",
      "A value is trying to be set on a copy of a slice from a DataFrame.\n",
      "Try using .loc[row_indexer,col_indexer] = value instead\n",
      "\n",
      "See the caveats in the documentation: https://pandas.pydata.org/pandas-docs/stable/user_guide/indexing.html#returning-a-view-versus-a-copy\n",
      "  optimal_puts['Insurance cost']=optimal_puts['strike']-optimal_puts['ask']-current_price\n",
      "/var/folders/mk/fn7b709x3dz4m442ngj1_xf00000gn/T/ipykernel_353/2668414907.py:11: SettingWithCopyWarning: \n",
      "A value is trying to be set on a copy of a slice from a DataFrame.\n",
      "Try using .loc[row_indexer,col_indexer] = value instead\n",
      "\n",
      "See the caveats in the documentation: https://pandas.pydata.org/pandas-docs/stable/user_guide/indexing.html#returning-a-view-versus-a-copy\n",
      "  purchasable_op['Cost margin']=purchasable_op['Insurance cost']/current_price\n"
     ]
    },
    {
     "data": {
      "text/html": [
       "<div>\n",
       "<style scoped>\n",
       "    .dataframe tbody tr th:only-of-type {\n",
       "        vertical-align: middle;\n",
       "    }\n",
       "\n",
       "    .dataframe tbody tr th {\n",
       "        vertical-align: top;\n",
       "    }\n",
       "\n",
       "    .dataframe thead th {\n",
       "        text-align: right;\n",
       "    }\n",
       "</style>\n",
       "<table border=\"1\" class=\"dataframe\">\n",
       "  <thead>\n",
       "    <tr style=\"text-align: right;\">\n",
       "      <th></th>\n",
       "      <th>contractSymbol</th>\n",
       "      <th>lastTradeDate</th>\n",
       "      <th>strike</th>\n",
       "      <th>lastPrice</th>\n",
       "      <th>bid</th>\n",
       "      <th>ask</th>\n",
       "      <th>change</th>\n",
       "      <th>percentChange</th>\n",
       "      <th>volume</th>\n",
       "      <th>openInterest</th>\n",
       "      <th>impliedVolatility</th>\n",
       "      <th>inTheMoney</th>\n",
       "      <th>contractSize</th>\n",
       "      <th>currency</th>\n",
       "      <th>Insurance cost</th>\n",
       "      <th>Cost margin</th>\n",
       "    </tr>\n",
       "  </thead>\n",
       "  <tbody>\n",
       "    <tr>\n",
       "      <th>25</th>\n",
       "      <td>AAPL241025P00212500</td>\n",
       "      <td>2024-10-18 19:36:26+00:00</td>\n",
       "      <td>212.5</td>\n",
       "      <td>0.06</td>\n",
       "      <td>0.05</td>\n",
       "      <td>0.06</td>\n",
       "      <td>-0.05</td>\n",
       "      <td>-45.454548</td>\n",
       "      <td>50.0</td>\n",
       "      <td>2177.0</td>\n",
       "      <td>0.338874</td>\n",
       "      <td>False</td>\n",
       "      <td>REGULAR</td>\n",
       "      <td>USD</td>\n",
       "      <td>-22.56</td>\n",
       "      <td>-0.096</td>\n",
       "    </tr>\n",
       "  </tbody>\n",
       "</table>\n",
       "</div>"
      ],
      "text/plain": [
       "         contractSymbol             lastTradeDate  strike  lastPrice   bid  \\\n",
       "25  AAPL241025P00212500 2024-10-18 19:36:26+00:00   212.5       0.06  0.05   \n",
       "\n",
       "     ask  change  percentChange  volume  openInterest  impliedVolatility  \\\n",
       "25  0.06   -0.05     -45.454548    50.0        2177.0           0.338874   \n",
       "\n",
       "    inTheMoney contractSize currency  Insurance cost  Cost margin  \n",
       "25       False      REGULAR      USD          -22.56       -0.096  "
      ]
     },
     "execution_count": 2,
     "metadata": {},
     "output_type": "execute_result"
    }
   ],
   "source": [
    "optimal_insurance_put('AAPL')"
   ]
  },
  {
   "cell_type": "markdown",
   "metadata": {},
   "source": [
    "### Testing average cost of insurance puts for above function"
   ]
  },
  {
   "cell_type": "code",
   "execution_count": 4,
   "metadata": {},
   "outputs": [
    {
     "ename": "NameError",
     "evalue": "name 'optimal_puts' is not defined",
     "output_type": "error",
     "traceback": [
      "\u001b[0;31m---------------------------------------------------------------------------\u001b[0m",
      "\u001b[0;31mNameError\u001b[0m                                 Traceback (most recent call last)",
      "Cell \u001b[0;32mIn[4], line 5\u001b[0m\n\u001b[1;32m      2\u001b[0m margin\u001b[38;5;241m=\u001b[39m[]\n\u001b[1;32m      3\u001b[0m \u001b[38;5;28;01mfor\u001b[39;00m ticker \u001b[38;5;129;01min\u001b[39;00m tickers:\n\u001b[0;32m----> 5\u001b[0m     margin\u001b[38;5;241m.\u001b[39mappend(optimal_puts(ticker)[\u001b[38;5;124m'\u001b[39m\u001b[38;5;124mCost margin\u001b[39m\u001b[38;5;124m'\u001b[39m]\u001b[38;5;241m.\u001b[39mtolist())\n\u001b[1;32m      7\u001b[0m margin \u001b[38;5;241m=\u001b[39m [item \u001b[38;5;28;01mfor\u001b[39;00m sublist \u001b[38;5;129;01min\u001b[39;00m margin \u001b[38;5;28;01mfor\u001b[39;00m item \u001b[38;5;129;01min\u001b[39;00m sublist]\n\u001b[1;32m      9\u001b[0m \u001b[38;5;28mprint\u001b[39m(\u001b[38;5;124mf\u001b[39m\u001b[38;5;124m'\u001b[39m\u001b[38;5;132;01m{\u001b[39;00m\u001b[38;5;28mround\u001b[39m(\u001b[38;5;28msum\u001b[39m(margin)\u001b[38;5;241m/\u001b[39m\u001b[38;5;28mlen\u001b[39m(tickers)\u001b[38;5;241m*\u001b[39m\u001b[38;5;241m100\u001b[39m,\u001b[38;5;241m2\u001b[39m)\u001b[38;5;132;01m}\u001b[39;00m\u001b[38;5;124m%\u001b[39m\u001b[38;5;124m'\u001b[39m)\n",
      "\u001b[0;31mNameError\u001b[0m: name 'optimal_puts' is not defined"
     ]
    }
   ],
   "source": [
    "tickers=['AMZN','BP','MSFT','TTE','AAPL','NVDA']\n",
    "margin=[]\n",
    "for ticker in tickers:\n",
    "    margin.append(optimal_puts(ticker)['Cost margin'].tolist())\n",
    "\n",
    "margin = [item for sublist in margin for item in sublist]\n",
    "\n",
    "print(f'{round(sum(margin)/len(tickers)*100,2)}%')"
   ]
  },
  {
   "cell_type": "markdown",
   "metadata": {},
   "source": [
    "## Aggresive options strategy (CALLS)"
   ]
  },
  {
   "cell_type": "code",
   "execution_count": 5,
   "metadata": {},
   "outputs": [],
   "source": [
    "def optimal_insurance_put(symbol):\n",
    "    ticker=yf.Ticker(symbol)\n",
    "    current_price=yf.download(symbol)['Adj Close'][-1]\n",
    "    puts=ticker.option_chain().call\n",
    "    optimal_puts=puts[(puts['strike']>0.9*(current_price)) & (puts['strike']<1.1*(current_price))]\n",
    "    optimal_puts['Insurance cost']=optimal_puts['strike']-optimal_puts['ask']-current_price\n",
    "\n",
    "    purchasable_op=optimal_puts[(optimal_puts['strike']<current_price)]\n",
    "    purchasable_op['Cost margin']=purchasable_op['Insurance cost']/current_price\n",
    "    ideal_option=purchasable_op[purchasable_op['Insurance cost']==purchasable_op['Insurance cost'].min()]\n",
    "\n",
    "    return ideal_option"
   ]
  },
  {
   "cell_type": "code",
   "execution_count": 6,
   "metadata": {},
   "outputs": [
    {
     "name": "stderr",
     "output_type": "stream",
     "text": [
      "[*********************100%%**********************]  1 of 1 completed\n"
     ]
    }
   ],
   "source": [
    "symbol='AAPL'\n",
    "ticker=yf.Ticker(symbol)\n",
    "current_price=yf.download(symbol)['Adj Close'][-1]\n",
    "calls=ticker.option_chain().calls\n",
    "calls['Status']=''\n",
    "for i in range(len(calls)):\n",
    "    if current_price>calls['strike'][i]+calls['bid'][i]:\n",
    "        calls['Status'][i]==\"Buy Right now\"\n",
    "\n",
    "    elif current_price>calls['strike'][i]:\n",
    "        calls['Status'][i]==\"Buy considering Bid price\"\n"
   ]
  },
  {
   "cell_type": "code",
   "execution_count": 7,
   "metadata": {},
   "outputs": [
    {
     "data": {
      "text/plain": [
       "contractSymbol             AAPL241025C00300000\n",
       "lastTradeDate        2024-10-18 20:00:00+00:00\n",
       "strike                                   300.0\n",
       "lastPrice                               126.68\n",
       "bid                                     134.25\n",
       "ask                                     135.85\n",
       "change                                9.970001\n",
       "percentChange                            100.0\n",
       "volume                                   42169\n",
       "openInterest                             34909\n",
       "impliedVolatility                     2.328129\n",
       "inTheMoney                                True\n",
       "contractSize                           REGULAR\n",
       "currency                                   USD\n",
       "Status                                        \n",
       "dtype: object"
      ]
     },
     "execution_count": 7,
     "metadata": {},
     "output_type": "execute_result"
    }
   ],
   "source": [
    "calls.max()"
   ]
  },
  {
   "cell_type": "code",
   "execution_count": 8,
   "metadata": {},
   "outputs": [],
   "source": [
    "import numpy as np\n",
    "from scipy.stats import norm\n",
    "import math\n",
    "calls['d_1']=(np.log(current_price/calls['strike'])+(0.02+(calls['impliedVolatility']/2))*5)/(calls['impliedVolatility']*np.sqrt(5))#Where t==5\n",
    "calls['d_2']=calls['d_1']-calls['impliedVolatility']*np.sqrt(5)\n",
    "\n",
    "\n",
    "cdf_1=norm.cdf(calls['d_1'])\n",
    "cdf_2=norm.cdf(calls['d_2'])\n",
    "calls['BSM call val']=cdf_1*current_price-(cdf_2*calls['strike']*math.exp(-0.02*5))\n",
    "\n"
   ]
  },
  {
   "cell_type": "code",
   "execution_count": 9,
   "metadata": {},
   "outputs": [],
   "source": [
    "calls['Diff to mkt']=abs(calls['BSM call val']-current_price)"
   ]
  },
  {
   "cell_type": "code",
   "execution_count": 10,
   "metadata": {},
   "outputs": [
    {
     "data": {
      "text/html": [
       "<div>\n",
       "<style scoped>\n",
       "    .dataframe tbody tr th:only-of-type {\n",
       "        vertical-align: middle;\n",
       "    }\n",
       "\n",
       "    .dataframe tbody tr th {\n",
       "        vertical-align: top;\n",
       "    }\n",
       "\n",
       "    .dataframe thead th {\n",
       "        text-align: right;\n",
       "    }\n",
       "</style>\n",
       "<table border=\"1\" class=\"dataframe\">\n",
       "  <thead>\n",
       "    <tr style=\"text-align: right;\">\n",
       "      <th></th>\n",
       "      <th>34</th>\n",
       "    </tr>\n",
       "  </thead>\n",
       "  <tbody>\n",
       "    <tr>\n",
       "      <th>contractSymbol</th>\n",
       "      <td>AAPL241025C00245000</td>\n",
       "    </tr>\n",
       "    <tr>\n",
       "      <th>lastTradeDate</th>\n",
       "      <td>2024-10-18 19:59:48+00:00</td>\n",
       "    </tr>\n",
       "    <tr>\n",
       "      <th>strike</th>\n",
       "      <td>245.0</td>\n",
       "    </tr>\n",
       "    <tr>\n",
       "      <th>lastPrice</th>\n",
       "      <td>0.13</td>\n",
       "    </tr>\n",
       "    <tr>\n",
       "      <th>bid</th>\n",
       "      <td>0.11</td>\n",
       "    </tr>\n",
       "    <tr>\n",
       "      <th>ask</th>\n",
       "      <td>0.13</td>\n",
       "    </tr>\n",
       "    <tr>\n",
       "      <th>change</th>\n",
       "      <td>0.02</td>\n",
       "    </tr>\n",
       "    <tr>\n",
       "      <th>percentChange</th>\n",
       "      <td>18.181814</td>\n",
       "    </tr>\n",
       "    <tr>\n",
       "      <th>volume</th>\n",
       "      <td>7651</td>\n",
       "    </tr>\n",
       "    <tr>\n",
       "      <th>openInterest</th>\n",
       "      <td>15900</td>\n",
       "    </tr>\n",
       "    <tr>\n",
       "      <th>impliedVolatility</th>\n",
       "      <td>0.183602</td>\n",
       "    </tr>\n",
       "    <tr>\n",
       "      <th>inTheMoney</th>\n",
       "      <td>False</td>\n",
       "    </tr>\n",
       "    <tr>\n",
       "      <th>contractSize</th>\n",
       "      <td>REGULAR</td>\n",
       "    </tr>\n",
       "    <tr>\n",
       "      <th>currency</th>\n",
       "      <td>USD</td>\n",
       "    </tr>\n",
       "    <tr>\n",
       "      <th>Status</th>\n",
       "      <td></td>\n",
       "    </tr>\n",
       "    <tr>\n",
       "      <th>d_1</th>\n",
       "      <td>1.260106</td>\n",
       "    </tr>\n",
       "    <tr>\n",
       "      <th>d_2</th>\n",
       "      <td>0.84956</td>\n",
       "    </tr>\n",
       "    <tr>\n",
       "      <th>BSM call val</th>\n",
       "      <td>32.764164</td>\n",
       "    </tr>\n",
       "    <tr>\n",
       "      <th>Diff to mkt</th>\n",
       "      <td>202.235836</td>\n",
       "    </tr>\n",
       "  </tbody>\n",
       "</table>\n",
       "</div>"
      ],
      "text/plain": [
       "                                          34\n",
       "contractSymbol           AAPL241025C00245000\n",
       "lastTradeDate      2024-10-18 19:59:48+00:00\n",
       "strike                                 245.0\n",
       "lastPrice                               0.13\n",
       "bid                                     0.11\n",
       "ask                                     0.13\n",
       "change                                  0.02\n",
       "percentChange                      18.181814\n",
       "volume                                  7651\n",
       "openInterest                           15900\n",
       "impliedVolatility                   0.183602\n",
       "inTheMoney                             False\n",
       "contractSize                         REGULAR\n",
       "currency                                 USD\n",
       "Status                                      \n",
       "d_1                                 1.260106\n",
       "d_2                                  0.84956\n",
       "BSM call val                       32.764164\n",
       "Diff to mkt                       202.235836"
      ]
     },
     "execution_count": 10,
     "metadata": {},
     "output_type": "execute_result"
    }
   ],
   "source": [
    "\n",
    "pd.DataFrame(calls.loc[calls['Diff to mkt'].idxmax()])"
   ]
  },
  {
   "cell_type": "code",
   "execution_count": 13,
   "metadata": {},
   "outputs": [
    {
     "data": {
      "image/png": "[encoded data removed]",
      "text/plain": [
       "<Figure size 1000x600 with 1 Axes>"
      ]
     },
     "metadata": {},
     "output_type": "display_data"
    }
   ],
   "source": [
    "import numpy as np\n",
    "import matplotlib.pyplot as plt\n",
    "\n",
    "# Parameters\n",
    "strike_price = 100  # Strike price of the call option\n",
    "premium = 10        # Premium paid for the call option\n",
    "\n",
    "# Range of stock prices\n",
    "stock_prices = np.linspace(50, 150, 400)\n",
    "\n",
    "# Calculate profit\n",
    "profit = np.maximum(stock_prices - strike_price, 0) - premium\n",
    "\n",
    "# Plotting\n",
    "plt.figure(figsize=(10, 6))\n",
    "plt.plot(stock_prices, profit, label='Call Option Profit')\n",
    "plt.axhline(0, color='black', linestyle='--')\n",
    "plt.axvline(strike_price, color='red', linestyle='--', label='Strike Price')\n",
    "plt.title('Call Option Profit vs Stock Price')\n",
    "plt.xlabel('Stock Price at Expiration')\n",
    "plt.ylabel('Profit')\n",
    "plt.legend()\n",
    "plt.grid(True)\n",
    "plt.show()"
   ]
  },
  {
   "cell_type": "code",
   "execution_count": null,
   "metadata": {},
   "outputs": [],
   "source": []
  }
 ],
 "metadata": {
  "kernelspec": {
   "display_name": "base",
   "language": "python",
   "name": "python3"
  },
  "language_info": {
   "codemirror_mode": {
    "name": "ipython",
    "version": 3
   },
   "file_extension": ".py",
   "mimetype": "text/x-python",
   "name": "python",
   "nbconvert_exporter": "python",
   "pygments_lexer": "ipython3",
   "version": "3.11.5"
  }
 },
 "nbformat": 4,
 "nbformat_minor": 2
}
