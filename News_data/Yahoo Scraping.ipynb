{
 "cells": [
  {
   "cell_type": "code",
   "execution_count": 16,
   "metadata": {},
   "outputs": [],
   "source": [
    "from selenium import webdriver\n",
    "from selenium.webdriver.common.by import By\n",
    "from selenium.webdriver.support.ui import WebDriverWait\n",
    "from selenium.webdriver.support import expected_conditions as EC\n"
   ]
  },
  {
   "cell_type": "code",
   "execution_count": 17,
   "metadata": {},
   "outputs": [],
   "source": [
    "\n",
    "\n",
    "driver=webdriver.Edge()\n",
    "driver.get(\"https://finance.yahoo.com/?guccounter=1&guce_referrer=aHR0cHM6Ly9sb2dpbi55YWhvby5jb20v&guce_referrer_sig=AQAAAA9EtO1xuGdA4juP8HaHZop4SJQ3uFyBcLGlGyUWEhuao91mcOlxef5gWi5Hxpl6lZkcnrgif8xcoUtGZi8EQzFdTuj6ZeL6UD0xrtU3qHkQKB824VyoHdH_8-g7AGeXg122beqj-irU7lV1wAQcMe-FH5r4OYRpLo6wUy19QpO_\")\n",
    "\n",
    "scroll_down=driver.find_element(By.ID, \"scroll-down-btn\")\n",
    "scroll_down.click()\n",
    "\n",
    "accept_cookies=driver.find_element(by=By.CSS_SELECTOR, value=\"button.btn.secondary.accept-all[name='agree'][value='agree']\")\n",
    "accept_cookies.click()\n",
    "\n",
    "\n",
    "link_element=driver.find_element(By.TAG_NAME, \"a\")\n",
    "link_element.click()\n",
    "\n",
    "\n",
    "\n",
    "ticker_box=driver.find_element(By.ID, \"ybar-sbq\")\n",
    "ticker_box.send_keys(\"MPC\")\n",
    "\n",
    "\n",
    "search_button=driver.find_element(By.ID, \"ybar-search\")\n",
    "search_button.click()\n",
    "\n"
   ]
  },
  {
   "cell_type": "code",
   "execution_count": 22,
   "metadata": {},
   "outputs": [],
   "source": [
    "driver=webdriver.Edge()\n",
    "driver.get(\"https://finance.yahoo.com/quote/MPC/\")\n",
    "scroll_down=driver.find_element(By.ID, \"scroll-down-btn\")\n",
    "scroll_down.click()\n",
    "\n",
    "accept_cookies=driver.find_element(by=By.CSS_SELECTOR, value=\"button.btn.secondary.accept-all[name='agree'][value='agree']\")\n",
    "accept_cookies.click()\n",
    "\n",
    "driver.execute_script(\"window.scrollTo(0,1400)\")\n",
    "news1 = WebDriverWait(driver, 10).until(\n",
    "    EC.presence_of_element_located((By.CLASS_NAME, \"clamp.yf-1e4au4k\"))\n",
    ")\n",
    "news1.click()\n",
    "news1_text=driver.find_element(By.CLASS_NAME, \"caas-body\").get_attribute(\"textContent\")\n"
   ]
  },
  {
   "cell_type": "code",
   "execution_count": 21,
   "metadata": {},
   "outputs": [
    {
     "data": {
      "text/plain": [
       "\"Marathon Petroleum (MPC) has recently been on Zacks.com's list of the most searched stocks. Therefore, you might want to consider some of the key factors that could influence the stock's performance in the near future.Shares of this refiner have returned -7% over the past month versus the Zacks S&P 500 composite's +2.9% change. The Zacks Oil and Gas - Refining and Marketing industry, to which Marathon Petroleum belongs, has lost 5.7% over this period. Now the key question is: Where could the stock be headed in the near term?Although media reports or rumors about a significant change in a company's business prospects usually cause its stock to trend and lead to an immediate price change, there are always certain fundamental factors that ultimately drive the buy-and-hold decision.Revisions to Earnings EstimatesRather than focusing on anything else, we at Zacks prioritize evaluating the change in a company's earnings projection. This is because we believe the fair value for its stock is determined by the present value of its future stream of earnings.Our analysis is essentially based on how sell-side analysts covering the stock are revising their earnings estimates to take the latest business trends into account. When earnings estimates for a company go up, the fair value for its stock goes up as well. And when a stock's fair value is higher than its current market price, investors tend to buy the stock, resulting in its price moving upward. Because of this, empirical studies indicate a strong correlation between trends in earnings estimate revisions and short-term stock price movements.Marathon Petroleum is expected to post earnings of $3.20 per share for the current quarter, representing a year-over-year change of -60.7%. Over the last 30 days, the Zacks Consensus Estimate has changed -13.9%.For the current fiscal year, the consensus earnings estimate of $14.33 points to a change of -39.4% from the prior year. Over the last 30 days, this estimate has changed -1.2%.For the next fiscal year, the consensus earnings estimate of $14.82 indicates a change of +3.4% from what Marathon Petroleum is expected to report a year ago. Over the past month, the estimate has changed -1.8%.With an impressive externally audited track record, our proprietary stock rating tool -- the Zacks Rank -- is a more conclusive indicator of a stock's near-term price performance, as it effectively harnesses the power of earnings estimate revisions. The size of the recent change in the consensus estimate, along with three other factors related to earnings estimates, has resulted in a Zacks Rank #3 (Hold) for Marathon Petroleum.Story continuesThe chart below shows the evolution of the company's forward 12-month consensus EPS estimate:12 Month EPSRevenue Growth ForecastEven though a company's earnings growth is arguably the best indicator of its financial health, nothing much happens if it cannot raise its revenues. It's almost impossible for a company to grow its earnings without growing its revenue for long periods. Therefore, knowing a company's potential revenue growth is crucial.For Marathon Petroleum, the consensus sales estimate for the current quarter of $31.76 billion indicates a year-over-year change of -23.6%. For the current and next fiscal years, $137.58 billion and $132.15 billion estimates indicate -8.5% and -3.9% changes, respectively.Last Reported Results and Surprise HistoryMarathon Petroleum reported revenues of $38.36 billion in the last reported quarter, representing a year-over-year change of +4.2%. EPS of $4.12 for the same period compares with $5.32 a year ago.Compared to the Zacks Consensus Estimate of $32.04 billion, the reported revenues represent a surprise of +19.75%. The EPS surprise was +35.53%.The company beat consensus EPS estimates in each of the trailing four quarters. The company topped consensus revenue estimates each time over this period.ValuationWithout considering a stock's valuation, no investment decision can be efficient. In predicting a stock's future price performance, it's crucial to determine whether its current price correctly reflects the intrinsic value of the underlying business and the company's growth prospects.Comparing the current value of a company's valuation multiples, such as its price-to-earnings (P/E), price-to-sales (P/S), and price-to-cash flow (P/CF), to its own historical values helps ascertain whether its stock is fairly valued, overvalued, or undervalued, whereas comparing the company relative to its peers on these parameters gives a good sense of how reasonable its stock price is.As part of the Zacks Style Scores system, the Zacks Value Style Score (which evaluates both traditional and unconventional valuation metrics) organizes stocks into five groups ranging from A to F (A is better than B; B is better than C; and so on), making it helpful in identifying whether a stock is overvalued, rightly valued, or temporarily undervalued.Marathon Petroleum is graded A on this front, indicating that it is trading at a discount to its peers. Click here to see the values of some of the valuation metrics that have driven this grade.ConclusionThe facts discussed here and much other information on Zacks.com might help determine whether or not it's worthwhile paying attention to the market buzz about Marathon Petroleum. However, its Zacks Rank #3 does suggest that it may perform in line with the broader market in the near term.Want the latest recommendations from Zacks Investment Research? Today, you can download 7 Best Stocks for the Next 30 Days. Click to get this free reportMarathon Petroleum Corporation (MPC) : Free Stock Analysis ReportTo read this article on Zacks.com click here.Zacks Investment ResearchView comments\""
      ]
     },
     "execution_count": 21,
     "metadata": {},
     "output_type": "execute_result"
    }
   ],
   "source": [
    "news1_text"
   ]
  },
  {
   "cell_type": "code",
   "execution_count": null,
   "metadata": {},
   "outputs": [],
   "source": []
  }
 ],
 "metadata": {
  "kernelspec": {
   "display_name": ".venv",
   "language": "python",
   "name": "python3"
  },
  "language_info": {
   "codemirror_mode": {
    "name": "ipython",
    "version": 3
   },
   "file_extension": ".py",
   "mimetype": "text/x-python",
   "name": "python",
   "nbconvert_exporter": "python",
   "pygments_lexer": "ipython3",
   "version": "3.11.9"
  }
 },
 "nbformat": 4,
 "nbformat_minor": 2
}
