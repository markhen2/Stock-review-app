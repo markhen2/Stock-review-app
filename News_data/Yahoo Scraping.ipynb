{
 "cells": [
  {
   "cell_type": "code",
   "execution_count": 8,
   "metadata": {},
   "outputs": [],
   "source": [
    "import selenium \n",
    "from selenium import webdriver\n",
    "from selenium.webdriver.common.by import By"
   ]
  },
  {
   "cell_type": "code",
   "execution_count": 13,
   "metadata": {},
   "outputs": [],
   "source": [
    "driver=webdriver.Edge()\n",
    "driver.get(\"https://consent.yahoo.com/v2/collectConsent?sessionId=3_cc-session_4e968f9c-2353-4380-ac5a-d65c006e3614\")\n",
    "\n",
    "\n",
    "\n",
    "scroll_down=driver.find_element(By.ID, \"scroll-down-btn\")\n",
    "scroll_down.click()\n",
    "\n",
    "accept_cookies=driver.find_element(by=By.CSS_SELECTOR, value=\"button.btn.secondary.accept-all[name='agree'][value='agree']\")\n",
    "accept_cookies.click()\n",
    "\n",
    "\n",
    "link_element=driver.find_element(By.TAG_NAME, \"a\")\n",
    "link_element.click()\n",
    "\n",
    "\n",
    "\n",
    "ticker_box=driver.find_element(By.ID, \"ybar-sbq\")\n",
    "ticker_box.send_keys(\"MPC\")\n",
    "\n",
    "\n",
    "search_button=driver.find_element(By.ID, \"ybar-search\")\n",
    "search_button.click()\n",
    "\n"
   ]
  },
  {
   "cell_type": "code",
   "execution_count": null,
   "metadata": {},
   "outputs": [],
   "source": []
  }
 ],
 "metadata": {
  "kernelspec": {
   "display_name": ".venv",
   "language": "python",
   "name": "python3"
  },
  "language_info": {
   "codemirror_mode": {
    "name": "ipython",
    "version": 3
   },
   "file_extension": ".py",
   "mimetype": "text/x-python",
   "name": "python",
   "nbconvert_exporter": "python",
   "pygments_lexer": "ipython3",
   "version": "3.11.9"
  }
 },
 "nbformat": 4,
 "nbformat_minor": 2
}
