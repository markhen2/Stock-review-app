{
 "cells": [
  {
   "cell_type": "code",
   "execution_count": 1,
   "metadata": {},
   "outputs": [
    {
     "name": "stderr",
     "output_type": "stream",
     "text": [
      "2024-09-18 17:19:04.671 Python[27477:11152855] WARNING: Secure coding is not enabled for restorable state! Enable secure coding by implementing NSApplicationDelegate.applicationSupportsSecureRestorableState: and returning YES.\n"
     ]
    },
    {
     "data": {
      "text/plain": [
       "''"
      ]
     },
     "execution_count": 1,
     "metadata": {},
     "output_type": "execute_result"
    }
   ],
   "source": [
    "import customtkinter\n",
    "import tkinter as tk\n",
    "import pandas as pd\n",
    "\n",
    "import matplotlib.pyplot as plt\n",
    "import fetch_basic_data\n",
    "from tkinter import *\n",
    "from tkinter.ttk import *\n",
    "from tkinter import Toplevel\n",
    "\n",
    "from matplotlib.backends.backend_tkagg import FigureCanvasTkAgg\n",
    "\n",
    "\n",
    "data = fetch_basic_data\n",
    "\n",
    "def search_ticker():\n",
    "    ticker=ticker_input.get()\n",
    "    ticker_info_window=Toplevel(app)\n",
    "    ticker_info_window.title('Ticker Information')\n",
    "    ticker_info_window.geometry('800x600')\n",
    "#Basic stock information\n",
    "    fetch_class=fetch_basic_data.StockData(ticker)\n",
    "    info=fetch_class.get_stockinfo()\n",
    "\n",
    "# Pricing data retreival\n",
    "    pricing=fetch_class.get_daily_stock(ticker)\n",
    "    y_close_price=round(float(pricing['Close'][-1]),2)\n",
    "# Monthly range   \n",
    "    pricing=round(pricing['Close'],2)\n",
    "    min_month=pricing.tail(30).min()\n",
    "    max_month=pricing.tail(30).max()\n",
    "# Yearly range\n",
    "    pricing=round(pricing['Close'],2)\n",
    "    min_year=pricing.tail(255).min()\n",
    "    max_year=pricing.tail(255).max()\n",
    "\n",
    "\n",
    "# plot\n",
    "    pricing=fetch_class.StockData(ticker)\n",
    "    pricing=fetch_class.get_daily_stock(ticker)\n",
    "    fig, ax = plt.subplots()\n",
    "    pricing['Close'].plot()\n",
    "    ax.set_xlabel('Date')\n",
    "    ax.set_ylabel(f'Price of {ticker}')\n",
    "    ax.grid()\n",
    " \n",
    "    canvas = FigureCanvasTkAgg(fig, master=ticker_info_window)\n",
    "    canvas.draw()\n",
    "    canvas.get_tk_widget().grid(row=6, column=0)\n",
    "\n",
    "    \n",
    "    customtkinter.CTkLabel(ticker_info_window, text='Stock Analysis').grid(row=0, column=1)\n",
    "    customtkinter.CTkLabel(ticker_info_window,text=info).grid(row=3,column=0)\n",
    "    customtkinter.CTkLabel(ticker_info_window,text='Ticker Information').grid(row=0,column=0)\n",
    "    customtkinter.CTkLabel(ticker_info_window, text=f'Current Price: {y_close_price}').grid(row=1, column=1)\n",
    "    customtkinter.CTkLabel(ticker_info_window, text=f'Monthly range: {min_month} - {max_month}').grid(row=2, column=1)\n",
    "    customtkinter.CTkLabel(ticker_info_window, text=f'Yearly range: {min_year} - {max_year}').grid(row=3, column=1)\n",
    "\n",
    "\n",
    "\n",
    "customtkinter.set_appearance_mode('dark')\n",
    "app=customtkinter.CTk()\n",
    "app.geometry('400*300')\n",
    "app.title('Stock Analysis')\n"
   ]
  },
  {
   "cell_type": "code",
   "execution_count": 15,
   "metadata": {},
   "outputs": [
    {
     "name": "stderr",
     "output_type": "stream",
     "text": [
      "Exception in Tkinter callback\n",
      "Traceback (most recent call last):\n",
      "  File \"/Library/Frameworks/Python.framework/Versions/3.11/lib/python3.11/tkinter/__init__.py\", line 1948, in __call__\n",
      "    return self.func(*args)\n",
      "           ^^^^^^^^^^^^^^^^\n",
      "  File \"/Users/markhenry/Documents/Stock-review-app/.venv/lib/python3.11/site-packages/customtkinter/windows/widgets/ctk_button.py\", line 554, in _clicked\n",
      "    self._command()\n",
      "  File \"/var/folders/mk/fn7b709x3dz4m442ngj1_xf00000gn/T/ipykernel_27477/1913834138.py\", line 21, in search_ticker\n",
      "    pricing = fetch_class.get_daily_stock(ticker)\n",
      "              ^^^^^^^^^^^^^^^^^^^^^^^^^^^^^^^^^^^\n",
      "TypeError: StockData.get_daily_stock() takes 1 positional argument but 2 were given\n"
     ]
    }
   ],
   "source": [
    "import matplotlib.pyplot as plt\n",
    "from matplotlib.backends.backend_tkagg import FigureCanvasTkAgg\n",
    "import customtkinter\n",
    "from tkinter import Toplevel\n",
    "\n",
    "# Assuming fetch_basic_data and data are already imported\n",
    "data = fetch_basic_data\n",
    "def search_ticker():\n",
    "    ticker = ticker_input.get()\n",
    "    ticker_info_window = Toplevel(app)\n",
    "    ticker_info_window.title('Ticker Information')\n",
    "    ticker_info_window.geometry('800x600')\n",
    "\n",
    "    # Basic stock information\n",
    "    fetch_class = fetch_basic_data.StockData(ticker)\n",
    "    info = fetch_class.get_stockinfo()\n",
    "    customtkinter.CTkLabel(ticker_info_window, text=info,text_color='black').grid(row=1, column=0)\n",
    "    customtkinter.CTkLabel(ticker_info_window, text='Ticker Information',text_color='black').grid(row=0, column=0)\n",
    "\n",
    "    # Pricing data retrieval\n",
    "    pricing = fetch_class.get_daily_stock(ticker)\n",
    "    y_close_price = round(float(pricing['Close'][-1]), 2)\n",
    "\n",
    "    pricing_close = round(pricing['Close'], 2)\n",
    "    min_month = pricing_close.tail(30).min()\n",
    "    max_month = pricing_close.tail(30).max()\n",
    "\n",
    "    min_year = pricing_close.tail(255).min()\n",
    "    max_year = pricing_close.tail(255).max()\n",
    "\n",
    "    # Plot\n",
    "    fig, ax = plt.subplots()\n",
    "    pricing['Close'].plot(ax=ax)\n",
    "    ax.set_xlabel('Date')\n",
    "    ax.set_ylabel(f'Price of {ticker}')\n",
    "    ax.grid()\n",
    "\n",
    "    canvas = FigureCanvasTkAgg(fig, master=ticker_info_window)\n",
    "    canvas.draw()\n",
    "    canvas.get_tk_widget().grid(row=20, column=4)\n",
    "\n",
    "    customtkinter.CTkLabel(ticker_info_window, text='Stock Analysis',text_color='black').grid(row=10, column=1)\n",
    "    customtkinter.CTkLabel(ticker_info_window, text=f'Current Price: {y_close_price}', text_color='black').grid(row=11, column=1)\n",
    "    customtkinter.CTkLabel(ticker_info_window, text=f'Monthly range: {min_month} - {max_month}',text_color='black').grid(row=12, column=1)\n",
    "    customtkinter.CTkLabel(ticker_info_window, text=f'Yearly range: {min_year} - {max_year}',text_color='black').grid(row=17, column=1)\n",
    "\n",
    "   \n",
    "customtkinter.set_appearance_mode('dark')\n",
    "app = customtkinter.CTk()\n",
    "app.geometry('600x200')\n",
    "app.title('Stock Analysis')\n",
    "\n",
    "\n",
    "\n",
    "\n",
    "\n",
    "customtkinter.CTkLabel(app,text='Enter a ticker here please').grid(row=0,column=0)\n",
    "ticker_input=Entry(app, width=20)\n",
    "ticker_input.grid(row=0,column=1)\n",
    "customtkinter.CTkButton(app,text='submit',command=search_ticker).grid(row=0,column=2)\n",
    "app.mainloop()\n",
    "# Assuming the rest of your code follows"
   ]
  },
  {
   "cell_type": "code",
   "execution_count": 16,
   "metadata": {},
   "outputs": [
    {
     "name": "stderr",
     "output_type": "stream",
     "text": [
      "/var/folders/mk/fn7b709x3dz4m442ngj1_xf00000gn/T/ipykernel_27477/1352518675.py:23: FutureWarning: Series.__getitem__ treating keys as positions is deprecated. In a future version, integer keys will always be treated as labels (consistent with DataFrame behavior). To access a value by position, use `ser.iloc[pos]`\n",
      "  y_close_price = round(float(pricing['Close'][-1]), 2)\n"
     ]
    },
    {
     "data": {
      "image/png": "[encoded data removed]",
      "text/plain": [
       "<Figure size 640x480 with 1 Axes>"
      ]
     },
     "metadata": {},
     "output_type": "display_data"
    },
    {
     "ename": "",
     "evalue": "",
     "output_type": "error",
     "traceback": [
      "\u001b[1;31mThe Kernel crashed while executing code in the current cell or a previous cell. \n",
      "\u001b[1;31mPlease review the code in the cell(s) to identify a possible cause of the failure. \n",
      "\u001b[1;31mClick <a href='https://aka.ms/vscodeJupyterKernelCrash'>here</a> for more info. \n",
      "\u001b[1;31mView Jupyter <a href='command:jupyter.viewOutput'>log</a> for further details."
     ]
    }
   ],
   "source": [
    "import matplotlib.pyplot as plt\n",
    "from matplotlib.backends.backend_tkagg import FigureCanvasTkAgg\n",
    "import customtkinter\n",
    "from tkinter import Toplevel, Entry\n",
    "\n",
    "# Assuming fetch_basic_data and data are already imported\n",
    "data = fetch_basic_data\n",
    "\n",
    "def search_ticker():\n",
    "    ticker = ticker_input.get()\n",
    "    ticker_info_window = Toplevel(app)\n",
    "    ticker_info_window.title('Ticker Information')\n",
    "    ticker_info_window.geometry('800x600')\n",
    "\n",
    "    # Basic stock information\n",
    "    fetch_class = fetch_basic_data.StockData(ticker)\n",
    "    info = fetch_class.get_stockinfo()\n",
    "    customtkinter.CTkLabel(ticker_info_window, text=info, text_color='black').grid(row=1, column=0)\n",
    "    customtkinter.CTkLabel(ticker_info_window, text='Ticker Information', text_color='black').grid(row=0, column=0)\n",
    "\n",
    "    # Pricing data retrieval\n",
    "    pricing = fetch_class.get_daily_stock()  # Corrected method call\n",
    "    y_close_price = round(float(pricing['Close'][-1]), 2)\n",
    "\n",
    "    pricing_close = round(pricing['Close'], 2)\n",
    "    min_month = pricing_close.tail(30).min()\n",
    "    max_month = pricing_close.tail(30).max()\n",
    "\n",
    "    min_year = pricing_close.tail(255).min()\n",
    "    max_year = pricing_close.tail(255).max()\n",
    "\n",
    "    # Plot\n",
    "    fig, ax = plt.subplots()\n",
    "    pricing['Close'].plot(ax=ax)\n",
    "    ax.set_xlabel('Date')\n",
    "    ax.set_ylabel(f'Price of {ticker}')\n",
    "    ax.grid()\n",
    "\n",
    "    canvas = FigureCanvasTkAgg(fig, master=ticker_info_window)\n",
    "    canvas.draw()\n",
    "    canvas.get_tk_widget().grid(row=20, column=4)\n",
    "\n",
    "    customtkinter.CTkLabel(ticker_info_window, text='Stock Analysis', text_color='black').grid(row=10, column=1)\n",
    "    customtkinter.CTkLabel(ticker_info_window, text=f'Current Price: {y_close_price}', text_color='black').grid(row=11, column=1)\n",
    "    customtkinter.CTkLabel(ticker_info_window, text=f'Monthly range: {min_month} - {max_month}', text_color='black').grid(row=12, column=1)\n",
    "    customtkinter.CTkLabel(ticker_info_window, text=f'Yearly range: {min_year} - {max_year}', text_color='black').grid(row=17, column=1)\n",
    "\n",
    "customtkinter.set_appearance_mode('dark')\n",
    "app = customtkinter.CTk()\n",
    "app.geometry('600x200')\n",
    "app.title('Stock Analysis')\n",
    "\n",
    "customtkinter.CTkLabel(app, text='Enter a ticker here please').grid(row=0, column=0)\n",
    "ticker_input = Entry(app, width=20)\n",
    "ticker_input.grid(row=0, column=1)\n",
    "customtkinter.CTkButton(app, text='submit', command=search_ticker).grid(row=0, column=2)\n",
    "\n",
    "app.mainloop()"
   ]
  },
  {
   "cell_type": "code",
   "execution_count": null,
   "metadata": {},
   "outputs": [],
   "source": []
  }
 ],
 "metadata": {
  "kernelspec": {
   "display_name": ".venv",
   "language": "python",
   "name": "python3"
  },
  "language_info": {
   "codemirror_mode": {
    "name": "ipython",
    "version": 3
   },
   "file_extension": ".py",
   "mimetype": "text/x-python",
   "name": "python",
   "nbconvert_exporter": "python",
   "pygments_lexer": "ipython3",
   "version": "3.11.4"
  }
 },
 "nbformat": 4,
 "nbformat_minor": 2
}
