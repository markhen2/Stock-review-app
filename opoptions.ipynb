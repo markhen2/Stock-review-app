{
 "cells": [
  {
   "cell_type": "code",
   "execution_count": 62,
   "metadata": {},
   "outputs": [],
   "source": [
    "import yfinance as yf\n",
    "import pandas as pd\n",
    "def optimal_puts(symbol):\n",
    "    ticker=yf.Ticker(symbol)\n",
    "    ticker=yf.Ticker(symbol)\n",
    "\n",
    "    current_price=yf.download(symbol)['Adj Close'][-1]\n",
    "    puts=ticker.option_chain().puts\n",
    "    optimal_puts=puts[(puts['strike']>0.9*(current_price)) & (puts['strike']<1.1*(current_price))]\n",
    "    optimal_puts['Insurance cost']=optimal_puts['strike']-optimal_puts['ask']-current_price\n",
    "\n",
    "    purchasable_op=optimal_puts[(optimal_puts['strike']<current_price)]\n",
    "    purchasable_op['Cost margin']=purchasable_op['Insurance cost']/current_price\n",
    "    ideal_option=purchasable_op[purchasable_op['Insurance cost']==purchasable_op['Insurance cost'].min()]\n",
    "\n",
    "    return ideal_option\n"
   ]
  },
  {
   "cell_type": "code",
   "execution_count": 73,
   "metadata": {},
   "outputs": [
    {
     "name": "stderr",
     "output_type": "stream",
     "text": [
      "[*********************100%%**********************]  1 of 1 completed\n",
      "/var/folders/mk/fn7b709x3dz4m442ngj1_xf00000gn/T/ipykernel_2349/518862504.py:10: SettingWithCopyWarning: \n",
      "A value is trying to be set on a copy of a slice from a DataFrame.\n",
      "Try using .loc[row_indexer,col_indexer] = value instead\n",
      "\n",
      "See the caveats in the documentation: https://pandas.pydata.org/pandas-docs/stable/user_guide/indexing.html#returning-a-view-versus-a-copy\n",
      "  optimal_puts['Insurance cost']=optimal_puts['strike']-optimal_puts['ask']-current_price\n",
      "/var/folders/mk/fn7b709x3dz4m442ngj1_xf00000gn/T/ipykernel_2349/518862504.py:13: SettingWithCopyWarning: \n",
      "A value is trying to be set on a copy of a slice from a DataFrame.\n",
      "Try using .loc[row_indexer,col_indexer] = value instead\n",
      "\n",
      "See the caveats in the documentation: https://pandas.pydata.org/pandas-docs/stable/user_guide/indexing.html#returning-a-view-versus-a-copy\n",
      "  purchasable_op['Cost margin']=purchasable_op['Insurance cost']/current_price\n",
      "[*********************100%%**********************]  1 of 1 completed\n",
      "/var/folders/mk/fn7b709x3dz4m442ngj1_xf00000gn/T/ipykernel_2349/518862504.py:10: SettingWithCopyWarning: \n",
      "A value is trying to be set on a copy of a slice from a DataFrame.\n",
      "Try using .loc[row_indexer,col_indexer] = value instead\n",
      "\n",
      "See the caveats in the documentation: https://pandas.pydata.org/pandas-docs/stable/user_guide/indexing.html#returning-a-view-versus-a-copy\n",
      "  optimal_puts['Insurance cost']=optimal_puts['strike']-optimal_puts['ask']-current_price\n",
      "/var/folders/mk/fn7b709x3dz4m442ngj1_xf00000gn/T/ipykernel_2349/518862504.py:13: SettingWithCopyWarning: \n",
      "A value is trying to be set on a copy of a slice from a DataFrame.\n",
      "Try using .loc[row_indexer,col_indexer] = value instead\n",
      "\n",
      "See the caveats in the documentation: https://pandas.pydata.org/pandas-docs/stable/user_guide/indexing.html#returning-a-view-versus-a-copy\n",
      "  purchasable_op['Cost margin']=purchasable_op['Insurance cost']/current_price\n",
      "[*********************100%%**********************]  1 of 1 completed\n",
      "/var/folders/mk/fn7b709x3dz4m442ngj1_xf00000gn/T/ipykernel_2349/518862504.py:10: SettingWithCopyWarning: \n",
      "A value is trying to be set on a copy of a slice from a DataFrame.\n",
      "Try using .loc[row_indexer,col_indexer] = value instead\n",
      "\n",
      "See the caveats in the documentation: https://pandas.pydata.org/pandas-docs/stable/user_guide/indexing.html#returning-a-view-versus-a-copy\n",
      "  optimal_puts['Insurance cost']=optimal_puts['strike']-optimal_puts['ask']-current_price\n",
      "/var/folders/mk/fn7b709x3dz4m442ngj1_xf00000gn/T/ipykernel_2349/518862504.py:13: SettingWithCopyWarning: \n",
      "A value is trying to be set on a copy of a slice from a DataFrame.\n",
      "Try using .loc[row_indexer,col_indexer] = value instead\n",
      "\n",
      "See the caveats in the documentation: https://pandas.pydata.org/pandas-docs/stable/user_guide/indexing.html#returning-a-view-versus-a-copy\n",
      "  purchasable_op['Cost margin']=purchasable_op['Insurance cost']/current_price\n",
      "[*********************100%%**********************]  1 of 1 completed\n",
      "/var/folders/mk/fn7b709x3dz4m442ngj1_xf00000gn/T/ipykernel_2349/518862504.py:10: SettingWithCopyWarning: \n",
      "A value is trying to be set on a copy of a slice from a DataFrame.\n",
      "Try using .loc[row_indexer,col_indexer] = value instead\n",
      "\n",
      "See the caveats in the documentation: https://pandas.pydata.org/pandas-docs/stable/user_guide/indexing.html#returning-a-view-versus-a-copy\n",
      "  optimal_puts['Insurance cost']=optimal_puts['strike']-optimal_puts['ask']-current_price\n",
      "/var/folders/mk/fn7b709x3dz4m442ngj1_xf00000gn/T/ipykernel_2349/518862504.py:13: SettingWithCopyWarning: \n",
      "A value is trying to be set on a copy of a slice from a DataFrame.\n",
      "Try using .loc[row_indexer,col_indexer] = value instead\n",
      "\n",
      "See the caveats in the documentation: https://pandas.pydata.org/pandas-docs/stable/user_guide/indexing.html#returning-a-view-versus-a-copy\n",
      "  purchasable_op['Cost margin']=purchasable_op['Insurance cost']/current_price\n",
      "[*********************100%%**********************]  1 of 1 completed\n",
      "/var/folders/mk/fn7b709x3dz4m442ngj1_xf00000gn/T/ipykernel_2349/518862504.py:10: SettingWithCopyWarning: \n",
      "A value is trying to be set on a copy of a slice from a DataFrame.\n",
      "Try using .loc[row_indexer,col_indexer] = value instead\n",
      "\n",
      "See the caveats in the documentation: https://pandas.pydata.org/pandas-docs/stable/user_guide/indexing.html#returning-a-view-versus-a-copy\n",
      "  optimal_puts['Insurance cost']=optimal_puts['strike']-optimal_puts['ask']-current_price\n",
      "/var/folders/mk/fn7b709x3dz4m442ngj1_xf00000gn/T/ipykernel_2349/518862504.py:13: SettingWithCopyWarning: \n",
      "A value is trying to be set on a copy of a slice from a DataFrame.\n",
      "Try using .loc[row_indexer,col_indexer] = value instead\n",
      "\n",
      "See the caveats in the documentation: https://pandas.pydata.org/pandas-docs/stable/user_guide/indexing.html#returning-a-view-versus-a-copy\n",
      "  purchasable_op['Cost margin']=purchasable_op['Insurance cost']/current_price\n",
      "[*********************100%%**********************]  1 of 1 completed\n",
      "/var/folders/mk/fn7b709x3dz4m442ngj1_xf00000gn/T/ipykernel_2349/518862504.py:10: SettingWithCopyWarning: \n",
      "A value is trying to be set on a copy of a slice from a DataFrame.\n",
      "Try using .loc[row_indexer,col_indexer] = value instead\n",
      "\n",
      "See the caveats in the documentation: https://pandas.pydata.org/pandas-docs/stable/user_guide/indexing.html#returning-a-view-versus-a-copy\n",
      "  optimal_puts['Insurance cost']=optimal_puts['strike']-optimal_puts['ask']-current_price\n",
      "/var/folders/mk/fn7b709x3dz4m442ngj1_xf00000gn/T/ipykernel_2349/518862504.py:13: SettingWithCopyWarning: \n",
      "A value is trying to be set on a copy of a slice from a DataFrame.\n",
      "Try using .loc[row_indexer,col_indexer] = value instead\n",
      "\n",
      "See the caveats in the documentation: https://pandas.pydata.org/pandas-docs/stable/user_guide/indexing.html#returning-a-view-versus-a-copy\n",
      "  purchasable_op['Cost margin']=purchasable_op['Insurance cost']/current_price\n"
     ]
    }
   ],
   "source": [
    "tickers=['AMZN','BP','MSFT','TTE','AAPL','NVDA']\n",
    "margin=[]\n",
    "for ticker in tickers:\n",
    "\n",
    "    margin.append(optimal_puts(ticker)['Cost margin'].tolist())\n",
    "\n",
    "margin = [item for sublist in margin for item in sublist]"
   ]
  },
  {
   "cell_type": "code",
   "execution_count": 78,
   "metadata": {},
   "outputs": [
    {
     "name": "stdout",
     "output_type": "stream",
     "text": [
      "-9.54%\n"
     ]
    }
   ],
   "source": [
    "print(f'{round(sum(margin)/len(tickers)*100,2)}%')"
   ]
  },
  {
   "cell_type": "code",
   "execution_count": null,
   "metadata": {},
   "outputs": [],
   "source": []
  }
 ],
 "metadata": {
  "kernelspec": {
   "display_name": "base",
   "language": "python",
   "name": "python3"
  },
  "language_info": {
   "codemirror_mode": {
    "name": "ipython",
    "version": 3
   },
   "file_extension": ".py",
   "mimetype": "text/x-python",
   "name": "python",
   "nbconvert_exporter": "python",
   "pygments_lexer": "ipython3",
   "version": "3.11.5"
  }
 },
 "nbformat": 4,
 "nbformat_minor": 2
}
