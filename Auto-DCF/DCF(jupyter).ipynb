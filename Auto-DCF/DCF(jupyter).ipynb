{
 "cells": [
  {
   "cell_type": "code",
   "execution_count": 61,
   "metadata": {},
   "outputs": [
    {
     "name": "stdout",
     "output_type": "stream",
     "text": [
      "Projected Share Price: 2020-09-30          NaN\n",
      "2021-09-30    36.753183\n",
      "2022-09-30    36.040008\n",
      "2023-09-30    36.196545\n",
      "Freq: YE-SEP, dtype: object\n"
     ]
    },
    {
     "name": "stderr",
     "output_type": "stream",
     "text": [
      "/var/folders/mk/fn7b709x3dz4m442ngj1_xf00000gn/T/ipykernel_50921/1714042145.py:40: FutureWarning: Series.__getitem__ treating keys as positions is deprecated. In a future version, integer keys will always be treated as labels (consistent with DataFrame behavior). To access a value by position, use `ser.iloc[pos]`\n",
      "  terminal_value = fcf[-1] * (1 + growth_rate) / (wacc - growth_rate)\n",
      "/var/folders/mk/fn7b709x3dz4m442ngj1_xf00000gn/T/ipykernel_50921/1714042145.py:48: FutureWarning: Series.__getitem__ treating keys as positions is deprecated. In a future version, integer keys will always be treated as labels (consistent with DataFrame behavior). To access a value by position, use `ser.iloc[pos]`\n",
      "  discounted_fcf=[fcf[i] / ((1+wacc) ** (i+1)) for i in range(len(fcf))]\n"
     ]
    }
   ],
   "source": [
    "import yfinance as yf\n",
    "import numpy as np\n",
    "\n",
    "class DCF:\n",
    "    def __init__(self, ticker):\n",
    "        self.ticker = ticker\n",
    "        self.stock = yf.Ticker(ticker)\n",
    "\n",
    "    def calculate_fcf(self):\n",
    "        cashflow = self.stock.cashflow\n",
    "        if 'Free Cash Flow' in cashflow.index:\n",
    "            fcf = cashflow.loc['Free Cash Flow']\n",
    "        else:\n",
    "            print(\"Free Cash Flow data is not available.\")\n",
    "            fcf = None\n",
    "        return fcf\n",
    "    \n",
    "    def calculate_wacc(self):\n",
    "        balance_sheet = self.stock.balance_sheet\n",
    "        income_statement = self.stock.financials\n",
    "        try:\n",
    "            ebit = income_statement.loc['EBIT']\n",
    "            interest_expense = income_statement.loc['Interest Expense']\n",
    "            tax_rate = 0.125\n",
    "            tax_savings = interest_expense * tax_rate\n",
    "            risk_free_rate = 0.03\n",
    "            market_premium = 0.05\n",
    "            beta=1.2\n",
    "            cost_of_equity = risk_free_rate + beta * market_premium\n",
    "            cost_of_debt = interest_expense / balance_sheet.loc['Total Debt']\n",
    "            cost_of_equity = ebit / balance_sheet.loc['Total Equity Gross Minority Interest']\n",
    "            wacc = (cost_of_debt * (1 - tax_rate) * (balance_sheet.loc['Total Debt'] / (balance_sheet.loc['Total Debt'] + balance_sheet.loc['Total Equity Gross Minority Interest']))) + (cost_of_equity * (balance_sheet.loc['Total Equity Gross Minority Interest'] / (balance_sheet.loc['Total Debt'] + balance_sheet.loc['Total Equity Gross Minority Interest'])))\n",
    "        except KeyError as e:\n",
    "            print(f\"KeyError: {e}\")\n",
    "            wacc = None\n",
    "        return wacc\n",
    "    \n",
    "    def calculate_terminal_value(self, fcf, wacc, growth_rate):\n",
    "        if fcf is not None and wacc is not None:\n",
    "            terminal_value = fcf[-1] * (1 + growth_rate) / (wacc - growth_rate)\n",
    "        else:\n",
    "            print(\"Cannot calculate terminal value due to missing data.\")\n",
    "            terminal_value = None\n",
    "        return terminal_value\n",
    "    \n",
    "    def calculate_dcf(self, fcf, wacc, terminal_value):\n",
    "        if fcf is not None and terminal_value is not None:\n",
    "            discounted_fcf=[fcf[i] / ((1+wacc) ** (i+1)) for i in range(len(fcf))]\n",
    "            dcf_value = np.sum(discounted_fcf) + (terminal_value /(1+wacc)**(len(fcf)))\n",
    "        else:\n",
    "            print(\"Cannot calculate DCF due to missing data.\")\n",
    "            dcf_value = None\n",
    "        return dcf_value\n",
    "    \n",
    "    def get_outstanding_shares(self):\n",
    "        try:\n",
    "            shares = self.stock.info['sharesOutstanding']\n",
    "        except KeyError as e:\n",
    "            print(f\"KeyError: {e}\")\n",
    "            shares = None\n",
    "        return shares\n",
    "    \n",
    "    def calculate_projected_share_price(self, dcf_value):\n",
    "        shares_outstanding = self.get_outstanding_shares()\n",
    "        if dcf_value is not None and shares_outstanding is not None:\n",
    "            projected_share_price = dcf_value / shares_outstanding\n",
    "        else:\n",
    "            print(\"Cannot calculate projected share price due to missing data.\")\n",
    "            projected_share_price = None\n",
    "        return projected_share_price\n",
    "\n",
    "# Example usage\n",
    "dcf_model = DCF('AAPL')  # Replace 'AAPL' with the desired ticker symbol\n",
    "fcf = dcf_model.calculate_fcf()\n",
    "fcf=fcf[::-1] # Reverse the order of the cash flow data to match order of WACC and FCF etc...\n",
    "fcf=fcf.dropna()\n",
    "wacc = dcf_model.calculate_wacc()\n",
    "wacc = wacc.dropna()\n",
    "terminal_value = dcf_model.calculate_terminal_value(fcf, wacc, 0.02)  # Example growth rate of 2%\n",
    "terminal_value = terminal_value[1:]\n",
    "dcf_value = dcf_model.calculate_dcf(fcf, wacc, terminal_value)\n",
    "projected_share_price = dcf_model.calculate_projected_share_price(dcf_value)\n",
    "print(\"Projected Share Price:\", projected_share_price)"
   ]
  },
  {
   "cell_type": "code",
   "execution_count": null,
   "metadata": {},
   "outputs": [],
   "source": []
  }
 ],
 "metadata": {
  "kernelspec": {
   "display_name": ".venv",
   "language": "python",
   "name": "python3"
  },
  "language_info": {
   "codemirror_mode": {
    "name": "ipython",
    "version": 3
   },
   "file_extension": ".py",
   "mimetype": "text/x-python",
   "name": "python",
   "nbconvert_exporter": "python",
   "pygments_lexer": "ipython3",
   "version": "3.11.4"
  }
 },
 "nbformat": 4,
 "nbformat_minor": 2
}
