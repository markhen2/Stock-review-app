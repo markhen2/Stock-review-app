{
 "cells": [
  {
   "cell_type": "code",
   "execution_count": 6,
   "metadata": {},
   "outputs": [
    {
     "name": "stderr",
     "output_type": "stream",
     "text": [
      "/var/folders/mk/fn7b709x3dz4m442ngj1_xf00000gn/T/ipykernel_7172/284051278.py:46: FutureWarning: Series.__getitem__ treating keys as positions is deprecated. In a future version, integer keys will always be treated as labels (consistent with DataFrame behavior). To access a value by position, use `ser.iloc[pos]`\n",
      "  dcf+=fcf[i]/(1+wacc)**(i+1)\n"
     ]
    }
   ],
   "source": [
    "import yfinance as yf\n",
    "import numpy as np\n",
    "\n",
    "class DCF:\n",
    "    def __init__(self, ticker):\n",
    "        self.ticker = ticker\n",
    "        self.stock = yf.Ticker(ticker)\n",
    "\n",
    "    def calculate_fcf(self):\n",
    "        cashflow = self.stock.cashflow\n",
    "        if 'Free Cash Flow' in cashflow.index:\n",
    "            fcf = cashflow.loc['Free Cash Flow']\n",
    "        else:\n",
    "            print(\"Free Cash Flow data is not available.\")\n",
    "            fcf = None\n",
    "        return fcf\n",
    "    \n",
    "    def calculate_wacc(self):\n",
    "        balance_sheet = self.stock.balance_sheet\n",
    "        income_statement = self.stock.financials\n",
    "        ebit=income_statement.loc['EBIT']\n",
    "        interest_expense = income_statement.loc['Interest Expense']\n",
    "        tax_rate = 0.125\n",
    "        risk_free_rate = 0.02\n",
    "        market_preimum = 0.05\n",
    "        beta=1.2\n",
    "        cost_of_equity=risk_free_rate+beta*market_preimum\n",
    "        cost_of_debt=(interest_expense)*(1-tax_rate)\n",
    "        wacc=(cost_of_equity+cost_of_debt)*(1+tax_rate)\n",
    "        return wacc.dropna()\n",
    "    \n",
    "    def terminal_value(self):\n",
    "        fcf = self.calculate_fcf()\n",
    "        wacc = self.calculate_wacc()\n",
    "        growth_rate=0.04\n",
    "        terminal_value=fcf*(1+growth_rate)/(wacc-growth_rate)\n",
    "        terminal_value=terminal_value.dropna()\n",
    "        return terminal_value[::-1]\n",
    "    \n",
    "    def calculate_dcf(self):\n",
    "        fcf = self.calculate_fcf()\n",
    "        wacc = self.calculate_wacc()\n",
    "        terminal_value = self.terminal_value()\n",
    "        dcf=0\n",
    "        for i in range(0,len(fcf)):\n",
    "            dcf+=fcf[i]/(1+wacc)**(i+1)\n",
    "        dcf+=terminal_value/(1+wacc)**len(fcf)\n",
    "        return dcf.dropna()\n",
    "    \n",
    "    \n",
    "    def get_outstanding_shares(self):\n",
    "        try:\n",
    "            shares = self.stock.info['sharesOutstanding']\n",
    "        except KeyError as e:\n",
    "            print(f\"KeyError: {e}\")\n",
    "            shares = None\n",
    "        return shares\n",
    "    \n",
    "    def calculate_projected_share_price(self, dcf_value):\n",
    "        shares_outstanding = self.get_outstanding_shares()\n",
    "        if dcf_value is not None and shares_outstanding is not None:\n",
    "            projected_share_price = dcf_value / shares_outstanding\n",
    "        else:\n",
    "            print(\"Cannot calculate projected share price due to missing data.\")\n",
    "            projected_share_price = None\n",
    "        return projected_share_price\n",
    "\n",
    "# Example usage\n",
    "dcf_model = DCF('AAPL')  # Replace 'AAPL' with the desired ticker symbol\n",
    "dcf_value = dcf_model.calculate_dcf()\n"
   ]
  },
  {
   "cell_type": "code",
   "execution_count": null,
   "metadata": {},
   "outputs": [],
   "source": []
  }
 ],
 "metadata": {
  "kernelspec": {
   "display_name": ".venv",
   "language": "python",
   "name": "python3"
  },
  "language_info": {
   "codemirror_mode": {
    "name": "ipython",
    "version": 3
   },
   "file_extension": ".py",
   "mimetype": "text/x-python",
   "name": "python",
   "nbconvert_exporter": "python",
   "pygments_lexer": "ipython3",
   "version": "3.11.4"
  }
 },
 "nbformat": 4,
 "nbformat_minor": 2
}
