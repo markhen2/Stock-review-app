{
 "cells": [
  {
   "cell_type": "code",
   "execution_count": 18,
   "metadata": {},
   "outputs": [
    {
     "name": "stdout",
     "output_type": "stream",
     "text": [
      "FCF: 2023-09-30     99584000000.0\n",
      "2022-09-30    111443000000.0\n",
      "2021-09-30     92953000000.0\n",
      "2020-09-30     73365000000.0\n",
      "2019-09-30               NaN\n",
      "Name: Free Cash Flow, dtype: object\n",
      "WACC: 2023-09-30    3871546875.09\n",
      "2022-09-30    2885203125.09\n",
      "2021-09-30    2603671875.09\n",
      "2020-09-30    2828109375.09\n",
      "Name: Interest Expense, dtype: object\n",
      "Terminal Value: 2023-09-30    26.750899\n",
      "2022-09-30    40.170731\n",
      "2021-09-30    37.128765\n",
      "2020-09-30    26.979013\n",
      "Freq: -1YE-SEP, dtype: object\n",
      "Year 1: FCF = 99584000000.0, WACC = 3871546875.09, Discounted FCF = 25.722018404326565\n",
      "Year 2: FCF = 111443000000.0, WACC = 2885203125.09, Discounted FCF = 1.3387516110184354e-08\n",
      "Year 3: FCF = 92953000000.0, WACC = 2603671875.09, Discounted FCF = 5.2662885936972126e-18\n",
      "Year 4: FCF = 73365000000.0, WACC = 2828109375.09, Discounted FCF = 1.1468433888228896e-27\n",
      "Discounted Terminal Value: 2023-09-30    NaN\n",
      "2022-09-30    NaN\n",
      "2021-09-30    NaN\n",
      "2020-09-30    NaN\n",
      "Freq: -1YE-SEP, dtype: object\n",
      "Final DCF: [25.722018404326565, 1.3387516110184354e-08, 5.2662885936972126e-18, 1.1468433888228896e-27, 2023-09-30    NaN\n",
      "2022-09-30    NaN\n",
      "2021-09-30    NaN\n",
      "2020-09-30    NaN\n",
      "Freq: -1YE-SEP, dtype: object]\n"
     ]
    },
    {
     "name": "stderr",
     "output_type": "stream",
     "text": [
      "/var/folders/mk/fn7b709x3dz4m442ngj1_xf00000gn/T/ipykernel_54822/624749636.py:59: FutureWarning: Series.__getitem__ treating keys as positions is deprecated. In a future version, integer keys will always be treated as labels (consistent with DataFrame behavior). To access a value by position, use `ser.iloc[pos]`\n",
      "  discounted_fcf = fcf[i] / (1 + wacc[i]) ** (i + 1)\n",
      "/var/folders/mk/fn7b709x3dz4m442ngj1_xf00000gn/T/ipykernel_54822/624749636.py:62: FutureWarning: Series.__getitem__ treating keys as positions is deprecated. In a future version, integer keys will always be treated as labels (consistent with DataFrame behavior). To access a value by position, use `ser.iloc[pos]`\n",
      "  print(f\"Year {i+1}: FCF = {fcf[i]}, WACC = {wacc[i]}, Discounted FCF = {discounted_fcf}\")\n",
      "/var/folders/mk/fn7b709x3dz4m442ngj1_xf00000gn/T/ipykernel_54822/624749636.py:65: FutureWarning: Series.__getitem__ treating keys as positions is deprecated. In a future version, integer keys will always be treated as labels (consistent with DataFrame behavior). To access a value by position, use `ser.iloc[pos]`\n",
      "  terminal_value_discounted = (fcf[-1] + terminal_value) / (1 + wacc[-1]) ** len(fcf)\n"
     ]
    }
   ],
   "source": [
    "import yfinance as yf\n",
    "import numpy as np\n",
    "\n",
    "class DCF:\n",
    "    def __init__(self, ticker):\n",
    "        self.ticker = ticker\n",
    "        self.stock = yf.Ticker(ticker)\n",
    "\n",
    "    def calculate_fcf(self):\n",
    "        cashflow = self.stock.cashflow\n",
    "        if 'Free Cash Flow' in cashflow.index:\n",
    "            fcf = cashflow.loc['Free Cash Flow']\n",
    "        else:\n",
    "            print(\"Free Cash Flow data is not available.\")\n",
    "            fcf = None\n",
    "        return fcf\n",
    "    \n",
    "    def calculate_wacc(self):\n",
    "        balance_sheet = self.stock.balance_sheet\n",
    "        income_statement = self.stock.financials\n",
    "        ebit=income_statement.loc['EBIT']\n",
    "        interest_expense = income_statement.loc['Interest Expense']\n",
    "        tax_rate = 0.125\n",
    "        risk_free_rate = 0.02\n",
    "        market_preimum = 0.05\n",
    "        beta=1.2\n",
    "        cost_of_equity=risk_free_rate+beta*market_preimum\n",
    "        cost_of_debt=(interest_expense)*(1-tax_rate)\n",
    "        wacc=(cost_of_equity+cost_of_debt)*(1+tax_rate)\n",
    "        return wacc.dropna()\n",
    "    \n",
    "    def terminal_value(self):\n",
    "        fcf = self.calculate_fcf()\n",
    "        wacc = self.calculate_wacc()\n",
    "        growth_rate=0.04\n",
    "        terminal_value=fcf*(1+growth_rate)/(wacc-growth_rate)\n",
    "        terminal_value=terminal_value.dropna()\n",
    "        return terminal_value[::-1]\n",
    "\n",
    "    def calculate_dcf(self):\n",
    "        fcf = self.calculate_fcf()  # List of free cash flows\n",
    "        wacc = self.calculate_wacc()  # List of weighted average cost of capital for each period\n",
    "        terminal_value = self.terminal_value()  # Terminal value at the end of projection\n",
    "\n",
    "        if len(fcf) != len(wacc) + 1:\n",
    "            print(\"Error: The length of FCF should be one more than WACC for terminal value calculation.\")\n",
    "            return []\n",
    "\n",
    "        dcf = []  # Initialize the list to store discounted cash flows\n",
    "    \n",
    "        # Calculate discounted FCF for each year except the terminal value\n",
    "        for i in range(len(wacc)):\n",
    "            discounted_fcf = fcf[i] / (1 + wacc[i]) ** (i + 1)\n",
    "            dcf.append(discounted_fcf)\n",
    "            # Debugging: Print each discounted cash flow\n",
    "            print(f\"Year {i+1}: FCF = {fcf[i]}, WACC = {wacc[i]}, Discounted FCF = {discounted_fcf}\")\n",
    "\n",
    "        # Add the terminal value, discounted using the last WACC\n",
    "        terminal_value_discounted = (fcf[-1] + terminal_value) / (1 + wacc[-1]) ** len(fcf)\n",
    "        dcf.append(terminal_value_discounted)\n",
    "\n",
    "        # Debugging: Print the final discounted terminal value\n",
    "        print(\"Discounted Terminal Value:\", terminal_value_discounted)\n",
    "        \n",
    "        print(\"Final DCF:\", dcf)  # Debugging: Print the final DCF list\n",
    "        return dcf\n",
    "\n",
    "\n",
    "        \n",
    "    \n",
    "    \n",
    "    def get_outstanding_shares(self):\n",
    "        try:\n",
    "            shares = self.stock.info['sharesOutstanding']\n",
    "        except KeyError as e:\n",
    "            print(f\"KeyError: {e}\")\n",
    "            shares = None\n",
    "        return shares\n",
    "    \n",
    "    def calculate_projected_share_price(self, dcf_value):\n",
    "        shares_outstanding = self.get_outstanding_shares()\n",
    "        if dcf_value is not None and shares_outstanding is not None:\n",
    "            projected_share_price = dcf_value / shares_outstanding\n",
    "        else:\n",
    "            print(\"Cannot calculate projected share price due to missing data.\")\n",
    "            projected_share_price = None\n",
    "        return projected_share_price\n",
    "\n",
    "# Example usage\n",
    "dcf_model = DCF('AAPL')  # Replace 'AAPL' with the desired ticker symbol\n",
    "dcf_value = dcf_model.calculate_dcf()\n"
   ]
  },
  {
   "cell_type": "code",
   "execution_count": 19,
   "metadata": {},
   "outputs": [
    {
     "name": "stdout",
     "output_type": "stream",
     "text": [
      "FCF: 2023-09-30     99584000000.0\n",
      "2022-09-30    111443000000.0\n",
      "2021-09-30     92953000000.0\n",
      "2020-09-30     73365000000.0\n",
      "2019-09-30               NaN\n",
      "Name: Free Cash Flow, dtype: object\n",
      "WACC: 2023-09-30    3871546875.09\n",
      "2022-09-30    2885203125.09\n",
      "2021-09-30    2603671875.09\n",
      "2020-09-30    2828109375.09\n",
      "Name: Interest Expense, dtype: object\n",
      "Terminal Value: 2023-09-30    26.750899\n",
      "2022-09-30    40.170731\n",
      "2021-09-30    37.128765\n",
      "2020-09-30    26.979013\n",
      "Freq: -1YE-SEP, dtype: object\n",
      "Year 1: FCF = 99584000000.0, WACC = 3871546875.09, Discounted FCF = 25.722018404326565\n",
      "Year 2: FCF = 111443000000.0, WACC = 2885203125.09, Discounted FCF = 1.3387516110184354e-08\n",
      "Year 3: FCF = 92953000000.0, WACC = 2603671875.09, Discounted FCF = 5.2662885936972126e-18\n",
      "Year 4: FCF = 73365000000.0, WACC = 2828109375.09, Discounted FCF = 1.1468433888228896e-27\n",
      "Discounted Terminal Value: 2023-09-30    NaN\n",
      "2022-09-30    NaN\n",
      "2021-09-30    NaN\n",
      "2020-09-30    NaN\n",
      "Freq: -1YE-SEP, dtype: object\n",
      "Final DCF: [25.722018404326565, 1.3387516110184354e-08, 5.2662885936972126e-18, 1.1468433888228896e-27, 2023-09-30    NaN\n",
      "2022-09-30    NaN\n",
      "2021-09-30    NaN\n",
      "2020-09-30    NaN\n",
      "Freq: -1YE-SEP, dtype: object]\n"
     ]
    },
    {
     "name": "stderr",
     "output_type": "stream",
     "text": [
      "/var/folders/mk/fn7b709x3dz4m442ngj1_xf00000gn/T/ipykernel_54822/624749636.py:59: FutureWarning: Series.__getitem__ treating keys as positions is deprecated. In a future version, integer keys will always be treated as labels (consistent with DataFrame behavior). To access a value by position, use `ser.iloc[pos]`\n",
      "  discounted_fcf = fcf[i] / (1 + wacc[i]) ** (i + 1)\n",
      "/var/folders/mk/fn7b709x3dz4m442ngj1_xf00000gn/T/ipykernel_54822/624749636.py:62: FutureWarning: Series.__getitem__ treating keys as positions is deprecated. In a future version, integer keys will always be treated as labels (consistent with DataFrame behavior). To access a value by position, use `ser.iloc[pos]`\n",
      "  print(f\"Year {i+1}: FCF = {fcf[i]}, WACC = {wacc[i]}, Discounted FCF = {discounted_fcf}\")\n",
      "/var/folders/mk/fn7b709x3dz4m442ngj1_xf00000gn/T/ipykernel_54822/624749636.py:65: FutureWarning: Series.__getitem__ treating keys as positions is deprecated. In a future version, integer keys will always be treated as labels (consistent with DataFrame behavior). To access a value by position, use `ser.iloc[pos]`\n",
      "  terminal_value_discounted = (fcf[-1] + terminal_value) / (1 + wacc[-1]) ** len(fcf)\n"
     ]
    },
    {
     "data": {
      "text/plain": [
       "[25.722018404326565,\n",
       " 1.3387516110184354e-08,\n",
       " 5.2662885936972126e-18,\n",
       " 1.1468433888228896e-27,\n",
       " 2023-09-30    NaN\n",
       " 2022-09-30    NaN\n",
       " 2021-09-30    NaN\n",
       " 2020-09-30    NaN\n",
       " Freq: -1YE-SEP, dtype: object]"
      ]
     },
     "execution_count": 19,
     "metadata": {},
     "output_type": "execute_result"
    }
   ],
   "source": [
    "dcf_model.calculate_dcf()"
   ]
  },
  {
   "cell_type": "code",
   "execution_count": 16,
   "metadata": {},
   "outputs": [
    {
     "name": "stdout",
     "output_type": "stream",
     "text": [
      "5\n",
      "4\n"
     ]
    }
   ],
   "source": [
    "print(len(dcf_model.calculate_fcf()))\n",
    "print(len(dcf_model.calculate_wacc()))"
   ]
  },
  {
   "cell_type": "code",
   "execution_count": null,
   "metadata": {},
   "outputs": [],
   "source": []
  }
 ],
 "metadata": {
  "kernelspec": {
   "display_name": ".venv",
   "language": "python",
   "name": "python3"
  },
  "language_info": {
   "codemirror_mode": {
    "name": "ipython",
    "version": 3
   },
   "file_extension": ".py",
   "mimetype": "text/x-python",
   "name": "python",
   "nbconvert_exporter": "python",
   "pygments_lexer": "ipython3",
   "version": "3.11.4"
  }
 },
 "nbformat": 4,
 "nbformat_minor": 2
}
